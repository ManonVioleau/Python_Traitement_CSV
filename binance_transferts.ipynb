{
 "cells": [
  {
   "cell_type": "code",
   "execution_count": 10,
   "source": [
    "import pandas\n",
    "from functions import get_value_in_USD, get_value_in_USDT_width_binance\n",
    "\n",
    "data = pandas.read_csv(r'/home/manon/Bureau/Adrien/Adrien2/csv/binance_new/binance_transferts_2021-02-05_2021-09-07.csv')\n",
    "print(data.head(5))"
   ],
   "outputs": [
    {
     "output_type": "stream",
     "name": "stdout",
     "text": [
      "   Unnamed: 0   User_ID             UTC_Time       Account  \\\n",
      "0           0  13017395  2021-02-04 00:05:35          Spot   \n",
      "1           1  13017395  2021-02-04 01:05:29          Spot   \n",
      "2           2  13017395  2021-02-04 08:21:02  USDT-Futures   \n",
      "3           3  13017395  2021-02-04 08:22:22  USDT-Futures   \n",
      "4           5  13017395  2021-02-04 08:25:55  USDT-Futures   \n",
      "\n",
      "                     Operation  Coin        Change   Remark  \n",
      "0         POS savings interest   DAI  1.731473e-01      NaN  \n",
      "1             Super BNB Mining   LIT  1.300000e-07      NaN  \n",
      "2                          Fee  USDT -1.406020e-01      NaN  \n",
      "3  Insurance fund compensation  USDT -1.572120e+00  穿仓保证金补偿  \n",
      "4                          Fee  USDT -5.989560e-02      NaN  \n"
     ]
    }
   ],
   "metadata": {}
  },
  {
   "cell_type": "code",
   "execution_count": 11,
   "source": [
    "new_datas = {'Portfolio' : [], 'Type' : [], 'Date' : [], 'Received Currency' : [], 'Received Quantity' : [], 'Sent Currency' : [], 'Sent Quantity' : [], 'Fee Currency' : [], 'Fee Quantity' : [], 'Trade value in USDT' : [], 'Fees value in USDT' : [], 'Total trade value in USDT' : [], 'Timestamp' : []}\n",
    "\n",
    "for index, row in data.iterrows():\n",
    "    if row['Account'] == 'Spot' and (row['Operation'] == 'Deposit' or row['Operation'] == 'Withdraw'):\n",
    "        new_datas['Portfolio'].append('Binance SPOT')\n",
    "        new_datas['Date'].append(row['UTC_Time'])        \n",
    "        new_datas['Timestamp'].append((pandas.to_datetime(row['UTC_Time']) - pandas.Timestamp(\"1970-01-01 00:00:00\")) // pandas.Timedelta('1ms'))\n",
    "        received_cur = ''\n",
    "        sent_cur = ''\n",
    "        received_quant = 0.0\n",
    "        sent_quant = 0.0\n",
    "        fee_cur = 0.0\n",
    "        fee_quant = 0.0\n",
    "        if row['Operation'] == 'Deposit':\n",
    "            new_datas['Type'].append('Deposit')\n",
    "            received_cur += row['Coin']\n",
    "            received_quant += float(row['Change'])\n",
    "        elif row['Operation'] == 'Withdraw':\n",
    "            new_datas['Type'].append('Withdrawal')\n",
    "            sent_cur += row['Coin']\n",
    "            sent_quant += -1 * float(row['Change'])\n",
    "        new_datas['Sent Currency'].append(received_cur)        \n",
    "        new_datas['Received Currency'].append(sent_cur)\n",
    "        new_datas['Sent Quantity'].append(received_quant)        \n",
    "        new_datas['Received Quantity'].append(sent_quant)\n",
    "        new_datas['Fee Currency'].append(fee_cur)\n",
    "        new_datas['Fee Quantity'].append(fee_quant)\n",
    "        new_datas['Fees value in USDT'].append(0.0)\n",
    "        new_datas['Trade value in USDT'].append(0.0)\n",
    "        new_datas['Total trade value in USDT'].append(0.0)\n",
    "\n",
    "new_datas = pandas.DataFrame(new_datas)\n",
    "print(new_datas.head(10))\n",
    "\n",
    "new_datas.to_csv('binance_transfert_without_USDT_value_2021-02-05_2021-09-07.csv')"
   ],
   "outputs": [
    {
     "output_type": "stream",
     "name": "stdout",
     "text": [
      "      Portfolio        Type                 Date Received Currency  \\\n",
      "0  Binance SPOT     Deposit  2021-02-06 21:34:34                     \n",
      "1  Binance SPOT  Withdrawal  2021-02-13 19:48:11               BNB   \n",
      "2  Binance SPOT  Withdrawal  2021-02-13 20:03:19              COMP   \n",
      "3  Binance SPOT     Deposit  2021-02-13 20:08:53                     \n",
      "4  Binance SPOT  Withdrawal  2021-02-13 20:09:03              COMP   \n",
      "5  Binance SPOT  Withdrawal  2021-02-13 20:15:09               BNB   \n",
      "6  Binance SPOT  Withdrawal  2021-02-13 22:09:21               XVS   \n",
      "7  Binance SPOT  Withdrawal  2021-02-13 22:15:05              COMP   \n",
      "8  Binance SPOT  Withdrawal  2021-02-14 15:51:34              COMP   \n",
      "9  Binance SPOT  Withdrawal  2021-02-15 18:45:35               DAI   \n",
      "\n",
      "   Received Quantity Sent Currency  Sent Quantity  Fee Currency  Fee Quantity  \\\n",
      "0            0.00000          EGLD        2.54795           0.0           0.0   \n",
      "1            0.10000                      0.00000           0.0           0.0   \n",
      "2            0.10000                      0.00000           0.0           0.0   \n",
      "3            0.00000           BNB        0.09263           0.0           0.0   \n",
      "4            0.38580                      0.00000           0.0           0.0   \n",
      "5            0.20000                      0.00000           0.0           0.0   \n",
      "6            7.04200                      0.00000           0.0           0.0   \n",
      "7            0.29222                      0.00000           0.0           0.0   \n",
      "8            0.19920                      0.00000           0.0           0.0   \n",
      "9           50.00000                      0.00000           0.0           0.0   \n",
      "\n",
      "   Trade value in USDT  Fees value in USDT  Total trade value in USDT  \\\n",
      "0                  0.0                 0.0                        0.0   \n",
      "1                  0.0                 0.0                        0.0   \n",
      "2                  0.0                 0.0                        0.0   \n",
      "3                  0.0                 0.0                        0.0   \n",
      "4                  0.0                 0.0                        0.0   \n",
      "5                  0.0                 0.0                        0.0   \n",
      "6                  0.0                 0.0                        0.0   \n",
      "7                  0.0                 0.0                        0.0   \n",
      "8                  0.0                 0.0                        0.0   \n",
      "9                  0.0                 0.0                        0.0   \n",
      "\n",
      "       Timestamp  \n",
      "0  1612647274000  \n",
      "1  1613245691000  \n",
      "2  1613246599000  \n",
      "3  1613246933000  \n",
      "4  1613246943000  \n",
      "5  1613247309000  \n",
      "6  1613254161000  \n",
      "7  1613254505000  \n",
      "8  1613317894000  \n",
      "9  1613414735000  \n"
     ]
    }
   ],
   "metadata": {}
  }
 ],
 "metadata": {
  "orig_nbformat": 4,
  "language_info": {
   "name": "python",
   "version": "3.8.10",
   "mimetype": "text/x-python",
   "codemirror_mode": {
    "name": "ipython",
    "version": 3
   },
   "pygments_lexer": "ipython3",
   "nbconvert_exporter": "python",
   "file_extension": ".py"
  },
  "kernelspec": {
   "name": "python3",
   "display_name": "Python 3.8.10 64-bit"
  },
  "interpreter": {
   "hash": "916dbcbb3f70747c44a77c7bcd40155683ae19c65e1c03b4aa3499c5328201f1"
  }
 },
 "nbformat": 4,
 "nbformat_minor": 2
}