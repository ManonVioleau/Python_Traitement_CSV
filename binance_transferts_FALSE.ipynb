{
 "cells": [
  {
   "cell_type": "code",
   "execution_count": 9,
   "source": [
    "import pandas\n",
    "from functions import get_value_in_USD, get_value_in_USDT_width_binance\n",
    "\n",
    "data = pandas.read_excel(r'/home/manon/Bureau/Adrien/Adrien2/csv/binance_dep_with_pas_ok.ods', engine=\"odf\")\n",
    "print(data.head(5))"
   ],
   "outputs": [
    {
     "output_type": "stream",
     "name": "stdout",
     "text": [
      "  Portefeuille               Date  Monnaie   Montant  \\\n",
      "0         SPOT 2017-12-20 11:49:30     ETH  0.649310   \n",
      "1         SPOT 2017-12-20 12:18:09     ETH  0.024200   \n",
      "2         SPOT 2017-12-22 23:57:49     ETH  0.125197   \n",
      "3         SPOT 2017-12-24 18:04:42     ETH  0.082200   \n",
      "4         SPOT 2018-01-11 19:31:08     ETH  0.830000   \n",
      "\n",
      "                                     Adresse:     Type  \n",
      "0  0x3961bd3e5c60dddc93145901eca2cba3368dce9b    Dépôt  \n",
      "1  0x3961bd3e5c60dddc93145901eca2cba3368dce9b    Dépôt  \n",
      "2  0x3961bd3e5c60dddc93145901eca2cba3368dce9b    Dépôt  \n",
      "3  0x3961bd3e5c60dddc93145901eca2cba3368dce9b    Dépôt  \n",
      "4  0x24E9F318d80a37E9eb6B5a0F1B2CF29e362881ff  Retrait  \n"
     ]
    }
   ],
   "metadata": {}
  },
  {
   "cell_type": "code",
   "execution_count": 10,
   "source": [
    "new_datas = {'Portfolio' : [], 'Type' : [], 'Date' : [], 'Received Currency' : [], 'Received Quantity' : [], 'Sent Currency' : [], 'Sent Quantity' : [], 'Fee Currency' : [], 'Fee Quantity' : [], 'Trade value in USDT' : [], 'Fees value in USDT' : [], 'Total trade value in USDT' : [], 'Timestamp' : []}\n",
    "\n",
    "for index, row in data.iterrows():\n",
    "    if row['Portefeuille'] == 'SPOT' and (row['Type'] == 'Dépôt' or row['Type'] == 'Retrait'):\n",
    "        new_datas['Portfolio'].append('Binance SPOT')\n",
    "        new_datas['Date'].append(row['Date '])        \n",
    "        new_datas['Timestamp'].append((pandas.to_datetime(row['Date ']) - pandas.Timestamp(\"1970-01-01 00:00:00\")) // pandas.Timedelta('1ms'))\n",
    "        received_cur = ''\n",
    "        sent_cur = ''\n",
    "        received_quant = 0.0\n",
    "        sent_quant = 0.0\n",
    "        fee_cur = 0.0\n",
    "        fee_quant = 0.0\n",
    "        if row['Type'] == 'Dépôt':\n",
    "            new_datas['Type'].append('Deposit')\n",
    "            received_cur += row['Monnaie']\n",
    "            received_quant += float(row['Montant'])\n",
    "        elif row['Type'] == 'Retrait':\n",
    "            new_datas['Type'].append('Withdrawal')\n",
    "            sent_cur += row['Monnaie']\n",
    "            sent_quant += float(row['Montant'])\n",
    "        new_datas['Sent Currency'].append(received_cur)        \n",
    "        new_datas['Received Currency'].append(sent_cur)\n",
    "        new_datas['Sent Quantity'].append(received_quant)        \n",
    "        new_datas['Received Quantity'].append(sent_quant)\n",
    "        new_datas['Fee Currency'].append(fee_cur)\n",
    "        new_datas['Fee Quantity'].append(fee_quant)\n",
    "        new_datas['Fees value in USDT'].append(0.0)\n",
    "        new_datas['Trade value in USDT'].append(0.0)\n",
    "        new_datas['Total trade value in USDT'].append(0.0)\n",
    "\n",
    "new_datas = pandas.DataFrame(new_datas)\n",
    "print(new_datas.head(10))\n",
    "\n",
    "new_datas.to_csv('binance_transfert_FAUX_without_USDT_value_2017-12-20_2021-09-07.csv')"
   ],
   "outputs": [
    {
     "output_type": "stream",
     "name": "stdout",
     "text": [
      "      Portfolio        Type                Date Received Currency  \\\n",
      "0  Binance SPOT     Deposit 2017-12-20 11:49:30                     \n",
      "1  Binance SPOT     Deposit 2017-12-20 12:18:09                     \n",
      "2  Binance SPOT     Deposit 2017-12-22 23:57:49                     \n",
      "3  Binance SPOT     Deposit 2017-12-24 18:04:42                     \n",
      "4  Binance SPOT  Withdrawal 2018-01-11 19:31:08               ETH   \n",
      "5  Binance SPOT     Deposit 2018-01-13 16:55:33                     \n",
      "6  Binance SPOT  Withdrawal 2018-01-16 22:56:08               ETH   \n",
      "7  Binance SPOT     Deposit 2018-01-18 03:36:00                     \n",
      "8  Binance SPOT  Withdrawal 2018-02-21 17:23:34               ETH   \n",
      "9  Binance SPOT     Deposit 2018-03-04 16:50:28                     \n",
      "\n",
      "   Received Quantity Sent Currency  Sent Quantity  Fee Currency  Fee Quantity  \\\n",
      "0           0.000000           ETH       0.649310           0.0           0.0   \n",
      "1           0.000000           ETH       0.024200           0.0           0.0   \n",
      "2           0.000000           ETH       0.125197           0.0           0.0   \n",
      "3           0.000000           ETH       0.082200           0.0           0.0   \n",
      "4           0.830000                     0.000000           0.0           0.0   \n",
      "5           0.000000           ETH       0.054069           0.0           0.0   \n",
      "6           0.497950                     0.000000           0.0           0.0   \n",
      "7           0.000000           ETH       0.473126           0.0           0.0   \n",
      "8           0.553592                     0.000000           0.0           0.0   \n",
      "9           0.000000           ETH       0.354644           0.0           0.0   \n",
      "\n",
      "   Trade value in USDT  Fees value in USDT  Total trade value in USDT  \\\n",
      "0                  0.0                 0.0                        0.0   \n",
      "1                  0.0                 0.0                        0.0   \n",
      "2                  0.0                 0.0                        0.0   \n",
      "3                  0.0                 0.0                        0.0   \n",
      "4                  0.0                 0.0                        0.0   \n",
      "5                  0.0                 0.0                        0.0   \n",
      "6                  0.0                 0.0                        0.0   \n",
      "7                  0.0                 0.0                        0.0   \n",
      "8                  0.0                 0.0                        0.0   \n",
      "9                  0.0                 0.0                        0.0   \n",
      "\n",
      "       Timestamp  \n",
      "0  1513770570000  \n",
      "1  1513772289000  \n",
      "2  1513987069000  \n",
      "3  1514138682000  \n",
      "4  1515699068000  \n",
      "5  1515862533000  \n",
      "6  1516143368000  \n",
      "7  1516246560000  \n",
      "8  1519233814000  \n",
      "9  1520182228000  \n"
     ]
    }
   ],
   "metadata": {}
  }
 ],
 "metadata": {
  "orig_nbformat": 4,
  "language_info": {
   "name": "python",
   "version": "3.8.10",
   "mimetype": "text/x-python",
   "codemirror_mode": {
    "name": "ipython",
    "version": 3
   },
   "pygments_lexer": "ipython3",
   "nbconvert_exporter": "python",
   "file_extension": ".py"
  },
  "kernelspec": {
   "name": "python3",
   "display_name": "Python 3.8.10 64-bit"
  },
  "interpreter": {
   "hash": "916dbcbb3f70747c44a77c7bcd40155683ae19c65e1c03b4aa3499c5328201f1"
  }
 },
 "nbformat": 4,
 "nbformat_minor": 2
}